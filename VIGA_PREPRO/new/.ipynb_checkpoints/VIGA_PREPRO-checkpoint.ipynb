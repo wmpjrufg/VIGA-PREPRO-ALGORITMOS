{
 "cells": [
  {
   "cell_type": "code",
   "execution_count": 1,
   "metadata": {
    "colab": {
     "base_uri": "https://localhost:8080/"
    },
    "id": "ucv1CYc3JKzN",
    "outputId": "85a8508d-65a0-41bd-aae6-b38e68cfa15c"
   },
   "outputs": [],
   "source": [
    "# Célula de instalação (**Não é necessário executar novamente quando precisar mudar os dados**)\n",
    "import numpy as np\n",
    "from VIGA_PREPRO import *\n",
    "from PERDAS import *"
   ]
  },
  {
   "cell_type": "code",
   "execution_count": 20,
   "metadata": {
    "id": "6_8mCMHTKiO9"
   },
   "outputs": [
    {
     "name": "stdout",
     "output_type": "stream",
     "text": [
      "2.38\n"
     ]
    }
   ],
   "source": [
    "# Geometria da viga\n",
    "H = 0.70\n",
    "B_W = 0.11\n",
    "B_FS = 0.30\n",
    "B_FI = 0.30\n",
    "H_FS = 0.09\n",
    "H_FI = 0.09\n",
    "H_SI = 0.07\n",
    "H_II = 0.07\n",
    "COB = 0.025\n",
    "PHI_L = 12.5 / 1E3\n",
    "PHI_E = 10.0 / 1E3\n",
    "L = 20\n",
    "L_PISTA = 150\n",
    "CHI = 0.15\n",
    "# Termos relativos as perdas de protensão\n",
    "DELTA_ANC = 6 / 1E3\n",
    "TEMPO_CONC = [1.00, 2.00, 28.0, 35.0, 45, 50 * 365]\n",
    "TEMPO_ACO  = [2.00, 3.00, 29.0, 36.0, 46, 51 * 365]\n",
    "TEMP = 30\n",
    "U = 40\n",
    "MU_AR = H * 2 + B_W * 2 + (B_FS - B_W) * 2 +  (B_FI - B_W) * 2\n",
    "print(MU_AR)\n",
    "PERDA_INICIAL = 6.00\n",
    "PERDA_TEMPO = 18.00\n",
    "# Características do aço\n",
    "E_SCP = 200E6\n",
    "PHO_S = 78 \n",
    "F_PK = 1864210.526\n",
    "F_YK = 1676573.427\n",
    "LAMBA_SIG = 1.00\n",
    "TIPO_FIO_CORD_BAR = 'COR'\n",
    "TIPO_PROT = 'PRE'\n",
    "TIPO_ACO = 'RB'\n",
    "# Características do concreto\n",
    "PHO_C = 25\n",
    "F_CK = 50 * 1E3\n",
    "CIMENTO = 'CP5'\n",
    "AGREGADO = 'GRA'\n",
    "ABAT = 0.10\n",
    "# Carregamentos e coeficientes parciais de segurança\n",
    "G_2K = 1.55 + 0.70\n",
    "Q_1K = 1.5\n",
    "PSI_1 = 0.40\n",
    "PSI_2 = 0.30\n",
    "GAMMA_F1 = 1.30\n",
    "GAMMA_F2 = 1.40\n",
    "GAMMA_S = 1.15\n",
    "# Aderência das cordoalhas\n",
    "ETA_1 = 1.2\n",
    "ETA_2 = 1.0"
   ]
  },
  {
   "cell_type": "markdown",
   "metadata": {
    "id": "Gxsqs7pRNgiX"
   },
   "source": [
    "## A célula abaixo verifica:\n",
    "- Propriedades geométricas da seção considerada;\n",
    "- Propriedades do material nas idades das etapas construtivas;\n",
    "- Tensão inicial nos cabos."
   ]
  },
  {
   "cell_type": "code",
   "execution_count": 13,
   "metadata": {
    "colab": {
     "base_uri": "https://localhost:8080/"
    },
    "id": "Vo-4ZwKzPtO0",
    "outputId": "4628ba0f-7dbc-4dc9-b5b0-9e1b25ecf0cd"
   },
   "outputs": [
    {
     "name": "stdout",
     "output_type": "stream",
     "text": [
      "Propriedades da seção transversal tipo I com abas inclinadas\n",
      "A_C:    +1.24500e-01 m²\n",
      "I_C:    +7.09727e-03 m^4\n",
      "Y_SUP:  +3.50000e-01 m\n",
      "Y_INF:  +3.50000e-01 m\n",
      "W_SUP:  +2.02779e-02 m³\n",
      "W_INF:  +2.02779e-02 m³\n",
      "E_P:    +3.08750e-01 m\n",
      "\n",
      "\n",
      "Propriedades do material\n",
      "Idade:     1.0 dias\n",
      "F_CKJ:     +2.11941e+04 kN/m²\n",
      "F_CTM:     +2.29755e+03 kN/m²\n",
      "F_CTKINF:  +1.60828e+03 kN/m²\n",
      "F_CTKSUP:  +2.98681e+03 kN/m²\n",
      "E_CI:      +3.06088e+07 kN/m²\n",
      "E_CS:      +2.83132e+07 kN/m²\n",
      "\n",
      "\n",
      "Idade:     2.0 dias\n",
      "F_CKJ:     +2.88957e+04 kN/m²\n",
      "F_CTM:     +2.82494e+03 kN/m²\n",
      "F_CTKINF:  +1.97746e+03 kN/m²\n",
      "F_CTKSUP:  +3.67243e+03 kN/m²\n",
      "E_CI:      +3.35917e+07 kN/m²\n",
      "E_CS:      +3.10723e+07 kN/m²\n",
      "\n",
      "\n",
      "Idade:     28.0 dias\n",
      "F_CKJ:     +5.00000e+04 kN/m²\n",
      "F_CTM:     +4.07163e+03 kN/m²\n",
      "F_CTKINF:  +2.85014e+03 kN/m²\n",
      "F_CTKSUP:  +5.29311e+03 kN/m²\n",
      "E_CI:      +3.95980e+07 kN/m²\n",
      "E_CS:      +3.66281e+07 kN/m²\n",
      "\n",
      "\n",
      "Idade:     35.0 dias\n",
      "F_CKJ:     +5.00000e+04 kN/m²\n",
      "F_CTM:     +4.07163e+03 kN/m²\n",
      "F_CTKINF:  +2.85014e+03 kN/m²\n",
      "F_CTKSUP:  +5.29311e+03 kN/m²\n",
      "E_CI:      +3.95980e+07 kN/m²\n",
      "E_CS:      +3.66281e+07 kN/m²\n",
      "\n",
      "\n",
      "Idade:     45 dias\n",
      "F_CKJ:     +5.00000e+04 kN/m²\n",
      "F_CTM:     +4.07163e+03 kN/m²\n",
      "F_CTKINF:  +2.85014e+03 kN/m²\n",
      "F_CTKSUP:  +5.29311e+03 kN/m²\n",
      "E_CI:      +3.95980e+07 kN/m²\n",
      "E_CS:      +3.66281e+07 kN/m²\n",
      "\n",
      "\n",
      "Idade:     18250 dias\n",
      "F_CKJ:     +5.00000e+04 kN/m²\n",
      "F_CTM:     +4.07163e+03 kN/m²\n",
      "F_CTKINF:  +2.85014e+03 kN/m²\n",
      "F_CTKSUP:  +5.29311e+03 kN/m²\n",
      "E_CI:      +3.95980e+07 kN/m²\n",
      "E_CS:      +3.66281e+07 kN/m²\n",
      "\n",
      "\n",
      "Tensão inicial na armadura\n",
      "SIGMA_PI0:  +1.42509e+06 kN/m²\n"
     ]
    }
   ],
   "source": [
    "# Determinação das propriedades da seção tipo I\n",
    "[A_C, I_C, Y_SUP, Y_INF, W_SUP, W_INF] = PROP_GEOMETRICA_I(H, B_FS, B_FI, B_W, H_FS, H_FI, H_SI, H_II)\n",
    "E_P = Y_INF - COB - (PHI_L / 2) - PHI_E\n",
    "print('Propriedades da seção transversal tipo I com abas inclinadas')\n",
    "print('A_C:   ', '%+10.5e' % A_C, 'm²')\n",
    "print('I_C:   ', '%+10.5e' % I_C, 'm^4')\n",
    "print('Y_SUP: ', '%+10.5e' % Y_SUP, 'm')\n",
    "print('Y_INF: ', '%+10.5e' % Y_INF, 'm')\n",
    "print('W_SUP: ', '%+10.5e' % W_SUP, 'm³')\n",
    "print('W_INF: ', '%+10.5e' % W_INF, 'm³')\n",
    "print('E_P:   ', '%+10.5e' % E_P, 'm')\n",
    "print('\\n')\n",
    "\n",
    "# Propriedades do material em todos as etapas construtivas\n",
    "F_CKJ = []; F_CTMJ = []; F_CTKINFJ = []; F_CTKSUPJ = []; E_CIJ = []; E_CSJ = [];\n",
    "print('Propriedades do material')\n",
    "for I_COUNT in range(len(TEMPO_CONC)):\n",
    "    TEMPO = TEMPO_CONC[I_COUNT]\n",
    "    [F_CKJJ, F_CTM, F_CTKINF, F_CTKSUP, E_CI, E_CS] = PROP_MATERIAL(F_CK, TEMPO, CIMENTO, AGREGADO)\n",
    "    F_CKJ.append(F_CKJJ); F_CTMJ.append(F_CTM); F_CTKINFJ.append(F_CTKINF)\n",
    "    F_CTKSUPJ.append(F_CTKSUP); E_CIJ.append(E_CI), E_CSJ.append(E_CS) \n",
    "    print('Idade:    ', TEMPO, 'dias')\n",
    "    print('F_CKJ:    ', '%+10.5e' % F_CKJJ, 'kN/m²')\n",
    "    print('F_CTM:    ', '%+10.5e' % F_CTM, 'kN/m²')\n",
    "    print('F_CTKINF: ', '%+10.5e' % F_CTKINF, 'kN/m²')\n",
    "    print('F_CTKSUP: ', '%+10.5e' % F_CTKSUP, 'kN/m²')\n",
    "    print('E_CI:     ', '%+10.5e' % E_CI, 'kN/m²')\n",
    "    print('E_CS:     ', '%+10.5e' % E_CS, 'kN/m²')\n",
    "    print('\\n')\n",
    "\n",
    "# Tensão inicial\n",
    "SIGMA_PI0 = TENSAO_INICIAL(TIPO_PROT, TIPO_ACO, F_PK, F_YK)\n",
    "SIGMA_PI0 *= LAMBA_SIG\n",
    "print('Tensão inicial na armadura')\n",
    "print('SIGMA_PI0: ', '%+10.5e' % SIGMA_PI0, 'kN/m²')"
   ]
  },
  {
   "cell_type": "code",
   "execution_count": null,
   "metadata": {},
   "outputs": [],
   "source": []
  },
  {
   "cell_type": "code",
   "execution_count": null,
   "metadata": {},
   "outputs": [],
   "source": []
  },
  {
   "cell_type": "markdown",
   "metadata": {
    "id": "WmnKVYxuG016"
   },
   "source": [
    "## A célula abaixo verifica:\n",
    "Esta célula verifica as tensões e faz a deifnição de armadura longitudinal para uma determinada perda de protensão. Porém o cálculo se repete até que a perda seja estabilizada.\n",
    "- O comprimento de transferência da peça."
   ]
  },
  {
   "cell_type": "code",
   "execution_count": 4,
   "metadata": {},
   "outputs": [
    {
     "name": "stdout",
     "output_type": "stream",
     "text": [
      "Tentativa de definição da perda : 0 Perda Inicial : 6.0\n",
      "Comprimento de transferência considerando as perdas iniciais\n",
      "L_P:  +1.14222e+00 m\n",
      "\n",
      "\n",
      "Esforços devido aos carregametos G e Q (M = kN.m, V = kN)\n",
      "MV = Meio do vão, AP = Apoio\n",
      "M_G1MV:   +1.69875e+02    M_G1AP:   +3.76988e+01    V_G1AP:   +3.39750e+01\n",
      "M_G2MV:   +1.12500e+02    M_G2AP:   +2.49661e+01    V_G2AP:   +2.25000e+01\n",
      "M_Q1MV:   +7.50000e+01    M_Q1AP:   +1.66440e+01    V_Q1AP:   +1.50000e+01\n",
      "\n",
      "\n",
      "Sugestão de armadura \n",
      "A_SCPINICIAL >=   +1.31294e-04 m²   Sugestão de armadura respeitando as condições nos apoios\n",
      "A_SCPINICIAL >=   +5.91624e-04 m²   Sugestão de armadura respeitando as condições no meio do vão\n",
      "A_SCP        ==   +5.91624e-04 m²   Armadura inicial escolhida\n",
      "\n",
      "\n",
      "Perda por deslizamento na ancoragem\n",
      "% =   +5.63011e-01\n",
      "Perda por relaxação na armadura\n",
      "% =   +2.09004e+00\n",
      "Perda por deformação na peça\n",
      "% =   +4.87206e+00\n",
      "Perda inicial\n",
      "% =   +7.52511e+00\n",
      "Perda por retração do concreto\n",
      "% =   +1.07644e+01\n",
      "Perda por relaxação na armadura\n",
      "% =   +6.63518e+00\n",
      "Perda por fluência do concreto\n",
      "% =   +7.78530e+00\n",
      "erro =   +6.86454e-01\n"
     ]
    }
   ],
   "source": [
    "ERRO = 1000\n",
    "CONT = 0\n",
    "for i in range(1):\n",
    "#while ERRO > (1 / 1E2):\n",
    "        print('Tentativa de definição da perda :', CONT, 'Perda Inicial :', PERDA_INICIAL)\n",
    "        # Cálculo da tensão de protensão para perdas inicial e final\n",
    "        SIGMA_PIINI = SIGMA_PI0 - SIGMA_PI0 * (PERDA_INICIAL / 100)\n",
    "        PERDA_TOTAL = PERDA_INICIAL + PERDA_TEMPO\n",
    "        SIGMA_PIINF = SIGMA_PI0 - SIGMA_PI0 * (PERDA_TOTAL / 100)\n",
    "        # Determinação do comprimento de transferência médio\n",
    "        L_PINI = COMPRIMENTO_TRANSFERENCIA(PHI_L, F_YK, F_CTKINFJ[0], ETA_1, ETA_2, SIGMA_PIINI, H)\n",
    "        L_PINF = COMPRIMENTO_TRANSFERENCIA(PHI_L, F_YK, F_CTKINFJ[4], ETA_1, ETA_2, SIGMA_PIINF, H)\n",
    "        L_P = np.mean([L_PINI, L_PINF])\n",
    "        print('Comprimento de transferência considerando as perdas iniciais')\n",
    "        print('L_P: ', '%+10.5e' % L_P, 'm')\n",
    "        print('\\n')\n",
    "        # Carregamento devido ao peso próprio\n",
    "        G_1K = A_C * PHO_C\n",
    "        # Momento máximo (meio do vão), momento apoios (no comp. de transferência) e cortante máximo (apoios)\n",
    "        M_MVG1K, M_APG1K, V_APG1K = ESFORCOS(G_1K, L, L_P)\n",
    "        M_MVG2K, M_APG2K, V_APG2K = ESFORCOS(G_2K, L, L_P)\n",
    "        M_MVQ1K, M_APQ1K, V_APQ1K = ESFORCOS(Q_1K, L, L_P)\n",
    "        print('Esforços devido aos carregametos G e Q (M = kN.m, V = kN)')\n",
    "        print('MV = Meio do vão, AP = Apoio')\n",
    "        print('M_G1MV:  ', '%+10.5e' % M_MVG1K, '   M_G1AP:  ', '%+10.5e' % M_APG1K,  '   V_G1AP:  ', '%+10.5e' % V_APG1K)\n",
    "        print('M_G2MV:  ', '%+10.5e' % M_MVG2K, '   M_G2AP:  ', '%+10.5e' % M_APG2K,  '   V_G2AP:  ', '%+10.5e' % V_APG2K)\n",
    "        print('M_Q1MV:  ', '%+10.5e' % M_MVQ1K, '   M_Q1AP:  ', '%+10.5e' % M_APQ1K,  '   V_Q1AP:  ', '%+10.5e' % V_APQ1K)\n",
    "        print('\\n')\n",
    "        # Avaliação das tensões no ELS: seções do apoio\n",
    "        A_SCPINICIAL0 = ARMADURA_ASCP_ELS(A_C, W_INF, E_P, PSI_1, PSI_2, M_APG1K, M_APG2K, 0, M_APQ1K, SIGMA_PIINF, F_CTKINFJ[5])\n",
    "        # Avaliação das tensões no ELS: seções do meio do vão\n",
    "        A_SCPINICIAL1 = ARMADURA_ASCP_ELS(A_C, W_INF, E_P, PSI_1, PSI_2, M_MVG1K, M_MVG2K, 0, M_MVQ1K, SIGMA_PIINF, F_CTKINFJ[5])\n",
    "        # Seleção do maior valor de área de aço (pior situação)\n",
    "        A_SCP = max(A_SCPINICIAL0, A_SCPINICIAL1)\n",
    "        print('Sugestão de armadura ')\n",
    "        print('A_SCPINICIAL >=  ', '%+10.5e' % A_SCPINICIAL0, 'm²', '  Sugestão de armadura respeitando as condições nos apoios')\n",
    "        print('A_SCPINICIAL >=  ', '%+10.5e' % A_SCPINICIAL1, 'm²', '  Sugestão de armadura respeitando as condições no meio do vão')\n",
    "        print('A_SCP        ==  ', '%+10.5e' % A_SCP, 'm²', '  Armadura inicial escolhida')\n",
    "        print('\\n')\n",
    "        # Reavaliando as perdas de protensão\n",
    "        # Perdas iniciais\n",
    "        P_I0 = SIGMA_PI0 * A_SCP\n",
    "        DELTA1, P_I1, SIGMA_PI1 = PERDA_DESLIZAMENTO_ANCORAGEM(P_I0, SIGMA_PI0, A_SCP, L_PISTA, DELTA_ANC, E_SCP)\n",
    "        print('Perda por deslizamento na ancoragem')\n",
    "        print('% =  ', '%+10.5e' % DELTA1)\n",
    "        DELTA2, P_I2, SIGMA_PI2, PSI2 = PERDA_RELAXACAO_ARMADURA(P_I1, SIGMA_PI1, 0, TEMPO_ACO[0], TEMP, F_PK, A_SCP, TIPO_FIO_CORD_BAR, TIPO_ACO)\n",
    "        print('Perda por relaxação na armadura')\n",
    "        print('% =  ', '%+10.5e' % DELTA2)\n",
    "        DELTA3, P_I3, SIGMA_PI3 = PERDA_DEFORMACAO_CONCRETO(E_SCP, E_CIJ[0], P_I2, SIGMA_PI2, A_SCP, A_C, I_C, E_P, M_MVG1K)\n",
    "        print('Perda por deformação na peça')\n",
    "        print('% =  ', '%+10.5e' % DELTA3)\n",
    "        PERDA_INICIALAUX = DELTA1 + DELTA2 + DELTA3\n",
    "        print('Perda inicial')\n",
    "        print('% =  ', '%+10.5e' % PERDA_INICIALAUX) \n",
    "        SIGMA_PIINI = SIGMA_PI0 - SIGMA_PI0 * (PERDA_INICIALAUX / 100)\n",
    "        P_IINI = P_I0 - P_I0 * (PERDA_INICIALAUX / 100)\n",
    "        # Perdas progressivas\n",
    "        DELTA4, P_I4, SIGMA_PI4 = PERDA_RETRACAO_CONCRETO(P_IINI, SIGMA_PIINI, A_SCP, U, ABAT, A_C, MU_AR, TEMPO_CONC[0], TEMPO_CONC[5], TEMP, 'RETRACAO', 'RAPIDO', E_SCP)\n",
    "        print('Perda por retração do concreto')\n",
    "        print('% =  ', '%+10.5e' % DELTA4)\n",
    "        DELTA5, P_I5, SIGMA_PI5, PSI5 = PERDA_RELAXACAO_ARMADURA(P_IINI, SIGMA_PIINI, TEMPO_ACO[0], TEMPO_ACO[5], TEMP, F_PK, A_SCP, TIPO_FIO_CORD_BAR, TIPO_ACO)\n",
    "        print('Perda por relaxação na armadura')\n",
    "        print('% =  ', '%+10.5e' % DELTA5)\n",
    "        PHI_GP = PHI_FLUENCIA(F_CKJ[0], F_CK, U, A_C, MU_AR, ABAT, TEMPO_CONC[0], TEMPO_CONC[5], TEMP, 'FLUENCIA', 'RAPIDO')\n",
    "        PHI_G2 = PHI_FLUENCIA(F_CKJ[3], F_CK, U, A_C, MU_AR, ABAT, TEMPO_CONC[3], TEMPO_CONC[5], TEMP, 'FLUENCIA', 'RAPIDO')\n",
    "        PHI_Q1 = PHI_FLUENCIA(F_CKJ[4], F_CK, U, A_C, MU_AR, ABAT, TEMPO_CONC[4], TEMPO_CONC[5], TEMP, 'FLUENCIA', 'RAPIDO')\n",
    "        PHI = [PHI_GP, PHI_G2, PHI_Q1]\n",
    "        SIGMA_GP = P_IINI / A_C + (((P_IINI * E_P) - M_MVG1K) / I_C) * E_P\n",
    "        SIGMA_G2 = - (M_MVG2K * E_P) / I_C\n",
    "        SIGMA_Q1 = - (PSI_2 * M_MVQ1K * E_P) / I_C\n",
    "        SIGMA_CABO = [SIGMA_GP, SIGMA_G2, SIGMA_Q1]\n",
    "        DELTA6, P_IT6, SIGMA_PIT6 = PERDA_POR_FLUENCIA_NO_CONCRETO(P_IINI, SIGMA_PIINI, A_SCP, PHI, E_SCP, E_CIJ[5], SIGMA_CABO)\n",
    "        print('Perda por fluência do concreto')\n",
    "        print('% =  ', '%+10.5e' % DELTA6)\n",
    "        ERRO = np.abs(PERDA_INICIALAUX - PERDA_TOTAL) / PERDA_TOTAL\n",
    "        CONT += 1\n",
    "        PERDA_INICIAL = PERDA_INICIALAUX\n",
    "        print('erro =  ', '%+10.5e' % ERRO) \n",
    "        #SIGMA_PIINI = SIGMA_PI0 - SIGMA_PI0 * (PERDA_INICIAL / 100)\n",
    "        #P_IINI = P_I0 - P_I0 * (PERDA_INICIAL / 100)\n",
    "        # Perdas temporais\n"
   ]
  },
  {
   "cell_type": "code",
   "execution_count": null,
   "metadata": {},
   "outputs": [],
   "source": []
  },
  {
   "cell_type": "markdown",
   "metadata": {
    "id": "dp4y4RiOKcfY"
   },
   "source": [
    "## A célula abaixo verifica:\n",
    "- Esforços de flexão meio do vão e apoios (no comp. de transferência);\n",
    "- Cisalhamento nos apoios."
   ]
  },
  {
   "cell_type": "markdown",
   "metadata": {
    "id": "I5QbXTg7QuVw"
   },
   "source": [
    "## A célula abaixo verifica:\n",
    "- Determinação da armadura A_SCP longitudinal que respeite a equação de Estado Limite de Serviço (ELS-F) no tempo infinito."
   ]
  },
  {
   "cell_type": "code",
   "execution_count": null,
   "metadata": {
    "colab": {
     "base_uri": "https://localhost:8080/"
    },
    "id": "uE4Kg56bAv-S",
    "outputId": "c0eca95d-5853-47c7-f7d7-5cbf140f0a04"
   },
   "outputs": [],
   "source": []
  },
  {
   "cell_type": "markdown",
   "metadata": {
    "id": "I5QbXTg7QuVw"
   },
   "source": [
    "## A célula abaixo verifica:\n",
    "- Verifica as tensões normais no ato da protensão considerando um Estado Limite Último (ELU)."
   ]
  },
  {
   "cell_type": "code",
   "execution_count": 5,
   "metadata": {
    "colab": {
     "base_uri": "https://localhost:8080/",
     "height": 248
    },
    "id": "P-e0oY-_NiUG",
    "outputId": "f16a7493-0235-4516-c0c4-5ca672b62b4d"
   },
   "outputs": [
    {
     "name": "stdout",
     "output_type": "stream",
     "text": [
      "Verificações ELU no ato da protensão\n",
      "Parâmetros da protensão\n",
      "SIGMA_PI1:      +1.31785e+06 kN/m²\n",
      "P_I1:           +7.79671e+02 kN\n",
      "\n",
      "\n",
      "Valores máximos das tensões \n",
      "SIGMA_TRACMAX:  +2.75706e+03 kN/m²\n",
      "SIGMA_COMPMAX:  +1.48359e+04 kN/m²\n",
      "\n",
      "\n",
      "Verificação das tensões normais nos bordos no apoio \n",
      "Bordo inferior: +1.62739e+04 kN/m² // Eq. Estado Limite: +9.69284e-02\n",
      "Bordo superior: -3.85878e+03 kN/m² // Eq. Estado Limite: +3.99600e-01\n",
      "\n",
      "\n",
      "Verificação das tensões normais nos bordos no meio do vão \n",
      "Bordo inferior: +9.81951e+03 kN/m² // Eq. Estado Limite: -3.38124e-01\n",
      "Bordo superior: +2.01923e+03 kN/m² // Eq. Estado Limite: -8.63895e-01\n",
      "\n",
      "\n"
     ]
    }
   ],
   "source": [
    "print('Verificações ELU no ato da protensão')\n",
    "# Carga inicial de protensão após definição da armadura\n",
    "SIGMA_PI1 = SIGMA_PIINI\n",
    "P_I1 = SIGMA_PI1 * A_SCP\n",
    "print('Parâmetros da protensão')\n",
    "print('SIGMA_PI1:     ' , '%+10.5e' % SIGMA_PI1, 'kN/m²')\n",
    "print('P_I1:          ' , '%+10.5e' % P_I1, 'kN')\n",
    "print('\\n')\n",
    "\n",
    "# Valores máximos das tensões (tração e compressão)\n",
    "SIGMA_TRACMAX = 1.20 * F_CTMJ[0]\n",
    "SIGMA_COMPMAX = 0.70 * F_CKJ[0]\n",
    "print('Valores máximos das tensões ')\n",
    "print('SIGMA_TRACMAX: ' , '%+10.5e' % SIGMA_TRACMAX, 'kN/m²')\n",
    "print('SIGMA_COMPMAX: ' , '%+10.5e' % SIGMA_COMPMAX, 'kN/m²')\n",
    "print('\\n')\n",
    "\n",
    "# Verificação tensões normais no ato da protensão no apoio\n",
    "G = []\n",
    "[SIGMA_INF, SIGMA_SUP] = TENSOES_NORMAIS(P_I1, A_C, E_P, W_INF, W_SUP, 1, 1, 0, 0, 0, 0, 0, M_APG1K, 0, 0, 0, 0)\n",
    "[G_0, G_1] = VERIFICA_TENSAO_NORMAL_ATO_PROTENSÃO(SIGMA_INF, SIGMA_SUP, SIGMA_TRACMAX, SIGMA_COMPMAX)\n",
    "G.append(G_0); G.append(G_1)\n",
    "print('Verificação das tensões normais nos bordos no apoio ')\n",
    "print('Bordo inferior:', '%+10.5e' % SIGMA_INF, 'kN/m²', '// Eq. Estado Limite:', '%+10.5e' % G_0)\n",
    "print('Bordo superior:', '%+10.5e' % SIGMA_SUP, 'kN/m²', '// Eq. Estado Limite:', '%+10.5e' % G_1)\n",
    "print('\\n')\n",
    "\n",
    "# Verificação tensões normais no ato da protensão no meio do vão\n",
    "[SIGMA_INF, SIGMA_SUP] = TENSOES_NORMAIS(P_I1, A_C, E_P, W_INF, W_SUP, 1, 1, 0, 0, 0, 0, 0, M_MVG1K, 0, 0, 0, 0)\n",
    "[G_2, G_3] = VERIFICA_TENSAO_NORMAL_ATO_PROTENSÃO(SIGMA_INF, SIGMA_SUP, SIGMA_TRACMAX, SIGMA_COMPMAX)\n",
    "G.append(G_2); G.append(G_3)\n",
    "print('Verificação das tensões normais nos bordos no meio do vão ')\n",
    "print('Bordo inferior:', '%+10.5e' % SIGMA_INF, 'kN/m²', '// Eq. Estado Limite:', '%+10.5e' % G_2)\n",
    "print('Bordo superior:', '%+10.5e' % SIGMA_SUP, 'kN/m²', '// Eq. Estado Limite:', '%+10.5e' % G_3)\n",
    "print('\\n')"
   ]
  },
  {
   "cell_type": "markdown",
   "metadata": {
    "id": "I5QbXTg7QuVw"
   },
   "source": [
    "## A célula abaixo verifica:\n",
    "- Determina a armadura longitudinal necessária A_SCPNEC para a peça."
   ]
  },
  {
   "cell_type": "code",
   "execution_count": 6,
   "metadata": {},
   "outputs": [
    {
     "name": "stdout",
     "output_type": "stream",
     "text": [
      "Verificação da armadura necessária\n"
     ]
    },
    {
     "ename": "NameError",
     "evalue": "name 'M_MVG3K' is not defined",
     "output_type": "error",
     "traceback": [
      "\u001b[1;31m---------------------------------------------------------------------------\u001b[0m",
      "\u001b[1;31mNameError\u001b[0m                                 Traceback (most recent call last)",
      "\u001b[1;32m<ipython-input-6-e47d057a4df7>\u001b[0m in \u001b[0;36m<module>\u001b[1;34m\u001b[0m\n\u001b[0;32m      1\u001b[0m \u001b[0mprint\u001b[0m\u001b[1;33m(\u001b[0m\u001b[1;34m'Verificação da armadura necessária'\u001b[0m\u001b[1;33m)\u001b[0m\u001b[1;33m\u001b[0m\u001b[1;33m\u001b[0m\u001b[0m\n\u001b[0;32m      2\u001b[0m \u001b[1;31m# Momento de cálculo\u001b[0m\u001b[1;33m\u001b[0m\u001b[1;33m\u001b[0m\u001b[1;33m\u001b[0m\u001b[0m\n\u001b[1;32m----> 3\u001b[1;33m \u001b[0mM_SD\u001b[0m \u001b[1;33m=\u001b[0m \u001b[1;33m(\u001b[0m\u001b[0mM_MVG1K\u001b[0m \u001b[1;33m+\u001b[0m \u001b[0mM_MVG2K\u001b[0m \u001b[1;33m+\u001b[0m \u001b[0mM_MVG3K\u001b[0m \u001b[1;33m+\u001b[0m \u001b[0mM_MVQ1K\u001b[0m\u001b[1;33m)\u001b[0m \u001b[1;33m*\u001b[0m \u001b[0mGAMMA_F\u001b[0m\u001b[1;33m\u001b[0m\u001b[1;33m\u001b[0m\u001b[0m\n\u001b[0m\u001b[0;32m      4\u001b[0m \u001b[0mprint\u001b[0m\u001b[1;33m(\u001b[0m\u001b[1;34m'Momento de cálculo'\u001b[0m\u001b[1;33m)\u001b[0m\u001b[1;33m\u001b[0m\u001b[1;33m\u001b[0m\u001b[0m\n\u001b[0;32m      5\u001b[0m \u001b[0mprint\u001b[0m\u001b[1;33m(\u001b[0m\u001b[1;34m'M_SD: '\u001b[0m\u001b[1;33m,\u001b[0m \u001b[1;34m'%+10.5e'\u001b[0m \u001b[1;33m%\u001b[0m \u001b[0mM_SD\u001b[0m\u001b[1;33m,\u001b[0m \u001b[1;34m'kN.m'\u001b[0m\u001b[1;33m)\u001b[0m\u001b[1;33m\u001b[0m\u001b[1;33m\u001b[0m\u001b[0m\n",
      "\u001b[1;31mNameError\u001b[0m: name 'M_MVG3K' is not defined"
     ]
    }
   ],
   "source": [
    "print('Verificação da armadura necessária')\n",
    "# Momento de cálculo\n",
    "M_SD = (M_MVG1K + M_MVG2K + M_MVG3K + M_MVQ1K) * GAMMA_F\n",
    "print('Momento de cálculo')\n",
    "print('M_SD: ', '%+10.5e' % M_SD, 'kN.m')\n",
    "print('\\n')\n",
    "\n",
    "# Altura útil\n",
    "D = Y_SUP + E_P\n",
    "print('Altura útil')\n",
    "print('D: ',   '%+10.5e' % D, 'm')\n",
    "print('\\n')\n",
    "\n",
    "# Propriedades do aço\n",
    "F_PD = F_PK / GAMMA_S\n",
    "F_YD = F_YK / GAMMA_S\n",
    "EPSILON_Y = F_YD / E_SCP\n",
    "print('Propriedades do aço')\n",
    "print('F_PD:      ',   '%+10.5e' % F_PD, 'kN/m²')\n",
    "print('F_YD:      ',   '%+10.5e' % F_YD, 'kN/m²')\n",
    "print('EPSILON_Y: ',   '%+10.5e' % EPSILON_Y)\n",
    "print('\\n')\n",
    "\n",
    "# Armadura necessária\n",
    "X, EPSILON_S, EPSILON_C, Z, A_SCPNEC = AREA_ACO_LONGITUDINAL_CP_T(M_SD, F_CK, B_W, B_FS, H_FS, D, E_SCP, SIGMA_PIINF, 35/1000, EPSILON_Y, F_PD, F_YD)\n",
    "G_4 = VERIFICA_ARMADURA_FLEXAO(A_SCP, A_SCPNEC)\n",
    "G.append(G_4)\n",
    "print('Armadura necessária')\n",
    "print('X:         ',   '%+10.5e' % X, 'm')\n",
    "print('EPSILON_S: ',   '%+10.5e' % EPSILON_S)\n",
    "print('EPSILON_C: ',   '%+10.5e' % EPSILON_C)\n",
    "print('Z:         ',   '%+10.5e' % Z, 'm')\n",
    "print('A_SCPNEC:  ',   '%+10.5e' % A_SCPNEC, 'm²', '// Eq. Estado Limite:', '%+10.5e' % G_4)\n",
    "print('\\n')"
   ]
  },
  {
   "cell_type": "markdown",
   "metadata": {
    "id": "I5QbXTg7QuVw"
   },
   "source": [
    "## A célula abaixo verifica:\n",
    "- Determina a resistência da biela de compressão;\n",
    "- Determina a armadura transversal A_SW necessária para a peça."
   ]
  },
  {
   "cell_type": "code",
   "execution_count": null,
   "metadata": {},
   "outputs": [],
   "source": [
    "# Verificação da biela comprimida\n",
    "V_SD = (V_APG1K + V_APG2K + V_APG3K + V_APQ1K) * 1.40\n",
    "V_RD2 = RESISTENCIA_BIELA_COMPRIMIDA(F_CKJ[1], B_W, D)\n",
    "G_5 = VERIFICA_BIELA_COMPRIMIDA(V_SD, V_RD2)\n",
    "G.append(G_5)\n",
    "print('Verificação da biela de compressão')\n",
    "print('Esforço cortante solicitante')\n",
    "print('V_SD:         ',   '%+10.5e' % V_SD, 'kN')\n",
    "print('\\n')\n",
    "print('Resistência da biela de compressão')\n",
    "print('V_RD2:        ',   '%+10.5e' % V_RD2, 'kN', '// Eq. Estado Limite:', '%+10.5e' % G_5)\n",
    "print('\\n')\n",
    "\n",
    "# Cálculo da armadura necessária\n",
    "P_IINF = SIGMA_PIINF * A_SCP\n",
    "V_C, V_SW, A_SW = AREA_ACO_TRANSVERSAL_MODELO_I(0, P_IINF, V_SD, F_CTKINFJ[1], B_W, D, 'CP', W_INF, A_C, E_P, M_SD, F_CTMJ[1], 500E3)\n",
    "print('Resistência do concreto ao cisalhamento')\n",
    "print('V_C:          ',   '%+10.5e' % V_C, 'kN')\n",
    "print('\\n')\n",
    "print('Carga de cisalhamento absorvida pelo estribo')\n",
    "print('V_SW:         ',   '%+10.5e' % V_SW, 'kN')\n",
    "print('\\n')\n",
    "print('Armadura para o cisalhamento')\n",
    "print('A_SW:         ',   '%+10.5e' % A_SW, 'm²/m')\n",
    "print('\\n')"
   ]
  },
  {
   "cell_type": "markdown",
   "metadata": {},
   "source": [
    "## A célula abaixo verifica:\n",
    "- Propriedades no Estádios I e II;\n",
    "- Momento de fissuração;\n",
    "- Flecha."
   ]
  },
  {
   "cell_type": "code",
   "execution_count": null,
   "metadata": {},
   "outputs": [],
   "source": [
    "print(\"Verificação da flecha\")\n",
    "# Determinação das propriedades no Estádio I\n",
    "ALPHA_MOD = E_SCP / E_CSJ[1]\n",
    "A_CI, X_I, I_I = GEOMETRIC_PROPERTIES_STATE_I(H, B_W, B_W, 0, A_SCP, ALPHA_MOD, D)\n",
    "M_R = M_R_BENDING_MOMENT(2, F_CTMJ[1], H, X_I, I_I, P_IINF, A_CI, W_INF, E_P)\n",
    "\n",
    "# Determinação das propriedades no Estádio II\n",
    "X_II, I_II = GEOMETRIC_PROPERTIES_STATE_II(H, B_W, B_W, 0, A_SCP, 0, ALPHA_MOD, D, 0)\n",
    "print(\"Propriedades no Estádio I\")\n",
    "print('Área da seção (Ac)               = ', A_CI, 'm²')\n",
    "print('Linha Neutra (xi)                = ', X_I, 'm')\n",
    "print('Inércia Estádio I (Ii)           = ', I_I, 'm^4')\n",
    "print('Momento resistente (Mr serviço)  = ', M_R, 'kN.m')\n",
    "print('\\n')\n",
    "print(\"Propriedades no Estádio II\")\n",
    "print('Linha Neutra Estádio II (xii)    = ', X_II, 'm')\n",
    "print('Inércia Estádio II (Iii)         = ', I_II, 'm^4')\n",
    "print('\\n')\n",
    "\n",
    "# Momento atuante\n",
    "M_SER = (M_MVG1K + M_MVG2K + M_MVG3K) + (M_MVQ1K) * PSI_2\n",
    "print(\"Verificação do Estádio\")\n",
    "print('Momento atuante (Mat serviço)    = ', M_SER, 'kN.m')\n",
    "\n",
    "# Inércia e rigidez equivalente da peça\n",
    "if M_SER > M_R:\n",
    "    I_M = BRANSON_INERTIA(M_R, M_SER, I_I, I_II)\n",
    "    I_CNOVO = I_M\n",
    "    print('Peça deverá ser verificada no Estádio II')\n",
    "else:\n",
    "    I_CNOVO  = I_I\n",
    "    print('Peça deverá ser verificada no Estádio I')\n",
    "print('\\n')\n",
    "\n",
    "EI0 = E_CSJ[0] * I_CNOVO\n",
    "EI1 = E_CSJ[1] * I_CNOVO\n",
    "print(\"Avaliação da inércia equivalente\")\n",
    "print(\"Inércia equivalente               =\", I_CNOVO, 'm^4')\n",
    "print(\"Rigidez equivalente na protensão  =\", EI0, 'kN.m²')\n",
    "print(\"Rigidez equivalente no serviço    =\", EI1, 'kN.m²')\n",
    "\n",
    "# Cálculo das flechas totais\n",
    "M_PI = P_I1 * E_P\n",
    "A_PI = -(M_PI * (L ** 2)) / (8 * EI0)\n",
    "A_PI *= (PHI_FLUENCIA0 + 1)\n",
    "A_G1 = (5 * G_1K * (L ** 4) / (384 * EI0))\n",
    "A_G1 *= (PHI_FLUENCIA0 + 1)\n",
    "G_SER = G_1K + G_2K + G_3K + PSI_2 * Q_1K\n",
    "A_G23 = (5 * (G_2K + G_3K) * (L ** 4) / (384 * EI1))\n",
    "A_G23 *= (PHI_FLUENCIA1 + 1)\n",
    "A_Q1 = (5 * (PSI_2 * Q_1K) * (L ** 4) / (384 * EI1))\n",
    "A_GT = A_G1 + A_G23 + A_Q1\n",
    "A_FABRICA = A_PI + A_G1\n",
    "A_SERVICO = A_PI + A_GT\n",
    "\n",
    "# Verificação flecha na fabricação\n",
    "G_6 = VERIFICA_FLECHA(A_FABRICA, L / 1000)\n",
    "G_7 = VERIFICA_FLECHA(A_SERVICO, L / 250)\n",
    "print(\"Flecha total (Direta + Fluência)\")\n",
    "print(\"Carga de serviço                = \", G_SER, 'kN/m')\n",
    "print(\"Flecha total na fabricação      = \", A_FABRICA, 'm', '// Eq. Estado Limite:', G_6)\n",
    "print(\"Flecha total no serviço         = \", A_SERVICO, 'm', '// Eq. Estado Limite:', G_7)"
   ]
  },
  {
   "cell_type": "code",
   "execution_count": 24,
   "metadata": {},
   "outputs": [
    {
     "name": "stdout",
     "output_type": "stream",
     "text": [
      "Perda por deslizamento na ancoragem\n",
      "% =   +5.46614e-01 1445057.7008036615\n",
      "Perda por relaxação na armadura\n",
      "% =   +1.77487e+00 1.7748733018042062 1419409.7574764316\n",
      "Perda por deformação na peça 1335421.0404289004\n",
      "% =   +5.91716e+00\n",
      "Perda inicial\n",
      "% =   +8.23865e+00\n",
      "Perda por retração do concreto\n",
      "% =   +6.61053e+00 88137.7521588523\n",
      "Perda por relaxação na armadura\n",
      "% =   +6.63518e+00\n"
     ]
    }
   ],
   "source": [
    "# testes das funções de perda de protensão\n",
    "SIGMA_PI0 = 1453E3\n",
    "A_SCP = 6.08 / 1E4\n",
    "P_I0 = SIGMA_PI0 * A_SCP\n",
    "DELTA1, P_I1, SIGMA_PI1 = PERDA_DESLIZAMENTO_ANCORAGEM(P_I0, SIGMA_PI0, A_SCP, L_PISTA, DELTA_ANC, E_SCP)\n",
    "print('Perda por deslizamento na ancoragem')\n",
    "print('% =  ', '%+10.5e' % DELTA1, SIGMA_PI1)\n",
    "DELTA2, P_I2, SIGMA_PI2, PSI2 = PERDA_RELAXACAO_ARMADURA(P_I1, SIGMA_PI1, 0, 1, 20, 1900E3, A_SCP, TIPO_FIO_CORD_BAR, TIPO_ACO)\n",
    "print('Perda por relaxação na armadura')\n",
    "print('% =  ', '%+10.5e' % DELTA2, PSI2, SIGMA_PI2)\n",
    "DELTA3, P_I3, SIGMA_PI3 = PERDA_DEFORMACAO_CONCRETO(E_SCP, 28000E3, P_I2, SIGMA_PI2, A_SCP, A_C, I_C, E_P, 155.50)\n",
    "print('Perda por deformação na peça', SIGMA_PI3)\n",
    "print('% =  ', '%+10.5e' % DELTA3)\n",
    "PERDA_INICIALAUX = DELTA1 + DELTA2 + DELTA3\n",
    "print('Perda inicial')\n",
    "print('% =  ', '%+10.5e' % PERDA_INICIALAUX) \n",
    "SIGMA_PIINI = SIGMA_PI0 - SIGMA_PI0 * (PERDA_INICIALAUX / 100)\n",
    "P_IINI = P_I0 - P_I0 * (PERDA_INICIALAUX / 100)\n",
    "# Perdas progressivas\n",
    "DELTA4, P_I4, SIGMA_PI4 = PERDA_RETRACAO_CONCRETO(P_IINI, SIGMA_PIINI, A_SCP, 70, 0.09, A_C, 2.192, 1, 10000, 20, 'RETRACAO', 'RAPIDO', E_SCP)\n",
    "print('Perda por retração do concreto')\n",
    "print('% =  ', '%+10.5e' % DELTA4, SIGMA_PIINI - SIGMA_PI4)\n",
    "DELTA5, P_I5, SIGMA_PI5, PSI5 = PERDA_RELAXACAO_ARMADURA(P_IINI, SIGMA_PIINI, TEMPO_ACO[0], TEMPO_ACO[5], TEMP, F_PK, A_SCP, TIPO_FIO_CORD_BAR, TIPO_ACO)\n",
    "print('Perda por relaxação na armadura')\n",
    "print('% =  ', '%+10.5e' % DELTA5)\n"
   ]
  },
  {
   "cell_type": "code",
   "execution_count": null,
   "metadata": {},
   "outputs": [],
   "source": [
    "PHI_GP = PHI_FLUENCIA(F_CKJ[0], F_CK, U, A_C, MU_AR, ABAT, TEMPO_CONC[0], TEMPO_CONC[5], TEMP, 'FLUENCIA', 'RAPIDO')\n",
    "PHI_G2 = PHI_FLUENCIA(F_CKJ[3], F_CK, U, A_C, MU_AR, ABAT, TEMPO_CONC[3], TEMPO_CONC[5], TEMP, 'FLUENCIA', 'RAPIDO')\n",
    "PHI_Q1 = PHI_FLUENCIA(F_CKJ[4], F_CK, U, A_C, MU_AR, ABAT, TEMPO_CONC[4], TEMPO_CONC[5], TEMP, 'FLUENCIA', 'RAPIDO')\n",
    "PHI = [PHI_GP, PHI_G2, PHI_Q1]\n",
    "SIGMA_GP = P_IINI / A_C + (((P_IINI * E_P) - M_MVG1K) / I_C) * E_P\n",
    "SIGMA_G2 = - (M_MVG2K * E_P) / I_C\n",
    "SIGMA_Q1 = - (PSI_2 * M_MVQ1K * E_P) / I_C\n",
    "SIGMA_CABO = [SIGMA_GP, SIGMA_G2, SIGMA_Q1]\n",
    "DELTA6, P_IT6, SIGMA_PIT6 = PERDA_POR_FLUENCIA_NO_CONCRETO(P_IINI, SIGMA_PIINI, A_SCP, PHI, E_SCP, E_CIJ[5], SIGMA_CABO)\n",
    "print('Perda por fluência do concreto')\n",
    "print('% =  ', '%+10.5e' % DELTA6)"
   ]
  }
 ],
 "metadata": {
  "colab": {
   "collapsed_sections": [],
   "name": "VIGA_PREPRO.ipynb",
   "provenance": []
  },
  "kernelspec": {
   "display_name": "Python 3",
   "language": "python",
   "name": "python3"
  },
  "language_info": {
   "codemirror_mode": {
    "name": "ipython",
    "version": 3
   },
   "file_extension": ".py",
   "mimetype": "text/x-python",
   "name": "python",
   "nbconvert_exporter": "python",
   "pygments_lexer": "ipython3",
   "version": "3.8.3"
  }
 },
 "nbformat": 4,
 "nbformat_minor": 1
}
