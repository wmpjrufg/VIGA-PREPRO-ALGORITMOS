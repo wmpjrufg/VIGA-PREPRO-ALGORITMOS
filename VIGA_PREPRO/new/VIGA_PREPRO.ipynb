{
 "cells": [
  {
   "cell_type": "markdown",
   "metadata": {
    "id": "gSfAlrPM5Hgd"
   },
   "source": [
    "# VIGA PREPRO\n",
    "#### *Verificação de vigas biapoiadas, pré-fabricas, protendidas, com cabos retilíneos e protensão limitada*\n",
    "<br>\n",
    "\n",
    "Autores:\n",
    "- Prof. Wanderlei Malaquias. Pereira Junior;\n",
    "- Profa. Sylvia Regina Mesquisa de Almeida;\n",
    "- Eng. Civil Gustavo Gonçalves Costa;\n",
    "- Eng. Civil Matheus Henrique Morato de Moraes;\n",
    "- Eng. Civil Geraldo Magela Gonçalves Filho\n",
    "\n",
    "<p align=\"justify\">Antes de iniciar o exemplo execute a célula de instalação do programa. Caso deseje rodar mais de um vez não é necessário instalar a biblioteca novamente.</p>\n",
    "\n",
    "_Produzido em linguagem Python_  \n",
    "_Licença MIT_"
   ]
  },
  {
   "cell_type": "code",
   "execution_count": 1,
   "metadata": {
    "colab": {
     "base_uri": "https://localhost:8080/"
    },
    "id": "ucv1CYc3JKzN",
    "outputId": "85a8508d-65a0-41bd-aae6-b38e68cfa15c"
   },
   "outputs": [],
   "source": [
    "# Célula de instalação (**Não é necessário executar novamente quando precisar mudar os dados**)\n",
    "import numpy as np\n",
    "from VIGA_PREPRO import *\n",
    "from PERDAS import *"
   ]
  },
  {
   "cell_type": "markdown",
   "metadata": {
    "id": "iwbVTG0C4DP2"
   },
   "source": [
    "<p align=\"justify\">Prezado usuário digite os dados de entrada da sua viga biapoiada. <b>Antes de iniciar</b> o processo <b>verifique as unidades de entrada</b> na documentação.</p>\n",
    "\n",
    "<a href=\"https://wmpjrufg.github.io/VIGA-PREPRO/\" target=\"_blank\">Clique aqui para acessar a documentação</a>"
   ]
  },
  {
   "cell_type": "code",
   "execution_count": 2,
   "metadata": {
    "id": "6_8mCMHTKiO9"
   },
   "outputs": [],
   "source": [
    "# Geometria da viga\n",
    "H = 0.70\n",
    "B_FS = 0.30\n",
    "B_FI = 0.30\n",
    "B_W = 0.11\n",
    "H_S = 0.09\n",
    "H_I = 0.09\n",
    "H_SI = 0.07\n",
    "H_II = 0.07\n",
    "L = 20\n",
    "PHI_L = 12.5 / 1E3\n",
    "PHI_E = 10.0 / 1E3\n",
    "COB = 0.025 \n",
    "# Características do aço\n",
    "E_SCP = 195E6\n",
    "GAMMA_S = 78 \n",
    "TIPO_PROT = 'PRE'\n",
    "TIPO_ACO = 'RB'\n",
    "F_PK = 1864210.526\n",
    "F_YK = 1676573.427\n",
    "LAMBA_SIG = 0.85\n",
    "# Características do concreto\n",
    "GAMMA_C = 25\n",
    "F_CK = 40 * 1E3\n",
    "CIMENTO = 'CP5'\n",
    "AGREGADO = 'GRA'\n",
    "PHI_FLUENCIA0 = 3.70\n",
    "PHI_FLUENCIA1 = 1.70\n",
    "# Carregamentos e coeficientes parciais\n",
    "G_2K = 1.55 \n",
    "G_3K = 0.70\n",
    "Q_1K = 1.5\n",
    "Q_2K = 0.0\n",
    "PSI_1 = 0.40\n",
    "PSI_2 = 0.30\n",
    "GAMMA_F = 1.40\n",
    "GAMMA_S = 1.15\n",
    "# Tempos do concreto\n",
    "TEMPO_CONC = [1, 50 * 365]\n",
    "# Perdas estimadas em percentual\n",
    "PERDA_INICIAL = 7.87\n",
    "PERDA_TEMPO = 23.81 - 7.87\n",
    "\n",
    "# Aderência das cordoalhas\n",
    "ETA_1 = 1.2\n",
    "ETA_2 = 1.0"
   ]
  },
  {
   "cell_type": "markdown",
   "metadata": {
    "id": "Gxsqs7pRNgiX"
   },
   "source": [
    "## A célula abaixo verifica:\n",
    "- Propriedades geométricas da seção retangular;\n",
    "- Propriedades do material na idade da aplicação da protensão e infinito (50 anos de uso);\n",
    "- Tensão inicial nos cabos.\n",
    "\n"
   ]
  },
  {
   "cell_type": "code",
   "execution_count": 3,
   "metadata": {
    "colab": {
     "base_uri": "https://localhost:8080/"
    },
    "id": "Vo-4ZwKzPtO0",
    "outputId": "4628ba0f-7dbc-4dc9-b5b0-9e1b25ecf0cd"
   },
   "outputs": [
    {
     "name": "stdout",
     "output_type": "stream",
     "text": [
      "Propriedades da seção transversal\n",
      "A_C:    +7.70000e-02 m²\n",
      "I_C:    +3.14417e-03 m^4\n",
      "Y_SUP:  +3.50000e-01 m\n",
      "Y_INF:  +3.50000e-01 m\n",
      "W_SUP:  +8.98333e-03 m³\n",
      "W_INF:  +8.98333e-03 m³\n",
      "E_P:    +3.08750e-01 m\n",
      "\n",
      "\n",
      "Propriedades da seção transversal AQUI I\n",
      "A_C:    +1.24500e-01 m²\n",
      "I_C:    +7.09727e-03 m^4\n",
      "Y_SUP:  +3.50000e-01 m\n",
      "Y_INF:  +3.50000e-01 m\n",
      "W_SUP:  +2.02779e-02 m³\n",
      "W_INF:  +2.02779e-02 m³\n",
      "E_P:    +3.08750e-01 m\n",
      "\n",
      "\n",
      "Propriedades do material\n",
      "Idade:     1 dias\n",
      "F_CKJ:     +2.10000e+04 kN/m²\n",
      "F_CTM:     +2.28350e+03 kN/m²\n",
      "F_CTKINF:  +1.59845e+03 kN/m²\n",
      "F_CTKSUP:  +2.96855e+03 kN/m²\n",
      "E_CI:      +2.56624e+07 kN/m²\n",
      "E_CS:      +2.30962e+07 kN/m²\n",
      "\n",
      "\n",
      "Idade:     18250 dias\n",
      "F_CKJ:     +4.00000e+04 kN/m²\n",
      "F_CTM:     +3.50882e+03 kN/m²\n",
      "F_CTKINF:  +2.45617e+03 kN/m²\n",
      "F_CTKSUP:  +4.56147e+03 kN/m²\n",
      "E_CI:      +3.54175e+07 kN/m²\n",
      "E_CS:      +3.18758e+07 kN/m²\n",
      "\n",
      "\n",
      "Tensão inicial na armadura\n",
      "SIGMA_PI0:  +1.21132e+06 kN/m²\n"
     ]
    }
   ],
   "source": [
    "# Propriedades da seção\n",
    "[A_C, I_C, Y_SUP, Y_INF, W_SUP, W_INF] = PROP_GEOMETRICA_RET(B_W,H)  \n",
    "E_P = Y_INF - COB - (PHI_L / 2) - PHI_E\n",
    "print('Propriedades da seção transversal')\n",
    "print('A_C:   ', '%+10.5e' % A_C, 'm²')\n",
    "print('I_C:   ', '%+10.5e' % I_C, 'm^4')\n",
    "print('Y_SUP: ', '%+10.5e' % Y_SUP, 'm')\n",
    "print('Y_INF: ', '%+10.5e' % Y_INF, 'm')\n",
    "print('W_SUP: ', '%+10.5e' % W_SUP, 'm³')\n",
    "print('W_INF: ', '%+10.5e' % W_INF, 'm³')\n",
    "print('E_P:   ', '%+10.5e' % E_P, 'm')\n",
    "print('\\n')\n",
    "[A_C, I_C, Y_SUP, Y_INF, W_SUP, W_INF] = PROP_GEOMETRICA_I(H, B_FS, B_FI, B_W, H_S, H_I, H_SI, H_II)\n",
    "E_P = Y_INF - COB - (PHI_L / 2) - PHI_E\n",
    "G_1K = A_C * GAMMA_C \n",
    "print('Propriedades da seção transversal AQUI I')\n",
    "print('A_C:   ', '%+10.5e' % A_C, 'm²')\n",
    "print('I_C:   ', '%+10.5e' % I_C, 'm^4')\n",
    "print('Y_SUP: ', '%+10.5e' % Y_SUP, 'm')\n",
    "print('Y_INF: ', '%+10.5e' % Y_INF, 'm')\n",
    "print('W_SUP: ', '%+10.5e' % W_SUP, 'm³')\n",
    "print('W_INF: ', '%+10.5e' % W_INF, 'm³')\n",
    "print('E_P:   ', '%+10.5e' % E_P, 'm')\n",
    "print('\\n')\n",
    "\n",
    "# Propriedades do material em todos as etapas\n",
    "F_CKJ = []; F_CTMJ = []; F_CTKINFJ = []; F_CTKSUPJ = []; E_CIJ = []; E_CSJ = [];\n",
    "print('Propriedades do material')\n",
    "for I_COUNT in range(len(TEMPO_CONC)):\n",
    "    TEMPO = TEMPO_CONC[I_COUNT]\n",
    "    [F_CKJJ, F_CTM, F_CTKINF, F_CTKSUP, E_CI, E_CS] = PROP_MATERIAL(F_CK, TEMPO, CIMENTO, AGREGADO)\n",
    "    F_CKJ.append(F_CKJJ); F_CTMJ.append(F_CTM); F_CTKINFJ.append(F_CTKINF)\n",
    "    F_CTKSUPJ.append(F_CTKSUP); E_CIJ.append(E_CI), E_CSJ.append(E_CS) \n",
    "    print('Idade:    ', TEMPO, 'dias')\n",
    "    print('F_CKJ:    ', '%+10.5e' % F_CKJJ, 'kN/m²')\n",
    "    print('F_CTM:    ', '%+10.5e' % F_CTM, 'kN/m²')\n",
    "    print('F_CTKINF: ', '%+10.5e' % F_CTKINF, 'kN/m²')\n",
    "    print('F_CTKSUP: ', '%+10.5e' % F_CTKSUP, 'kN/m²')\n",
    "    print('E_CI:     ', '%+10.5e' % E_CI, 'kN/m²')\n",
    "    print('E_CS:     ', '%+10.5e' % E_CS, 'kN/m²')\n",
    "    print('\\n')\n",
    "\n",
    "# Tensão inicial\n",
    "SIGMA_PI0 = TENSAO_INICIAL(TIPO_PROT, TIPO_ACO, F_PK, F_YK)\n",
    "SIGMA_PI0 *= LAMBA_SIG\n",
    "print('Tensão inicial na armadura')\n",
    "print('SIGMA_PI0: ', '%+10.5e' % SIGMA_PI0, 'kN/m²')"
   ]
  },
  {
   "cell_type": "markdown",
   "metadata": {
    "id": "WmnKVYxuG016"
   },
   "source": [
    "## A célula abaixo verifica:\n",
    "- O comprimento de transferência da peça."
   ]
  },
  {
   "cell_type": "code",
   "execution_count": 4,
   "metadata": {
    "colab": {
     "base_uri": "https://localhost:8080/"
    },
    "id": "kIYpT22fGz1y",
    "outputId": "bff41ea9-701e-4fc5-be7f-cfd506517044"
   },
   "outputs": [
    {
     "name": "stdout",
     "output_type": "stream",
     "text": [
      "Comprimento de transferência considerando as perdas iniciais\n",
      "L_P:  +1.02168e+00 m\n",
      "\n",
      "\n"
     ]
    }
   ],
   "source": [
    "# Determinação do comprimento de transferência\n",
    "SIGMA_PIINI = SIGMA_PI0 - SIGMA_PI0 * (PERDA_INICIAL / 100)\n",
    "PERDA_TOTAL = PERDA_INICIAL + PERDA_TEMPO\n",
    "SIGMA_PIINF = SIGMA_PI0 - SIGMA_PI0 * (PERDA_TOTAL / 100)\n",
    "L_PINI = COMPRIMENTO_TRANSFERENCIA(PHI_L, F_YK, F_CTKINFJ[0], ETA_1, ETA_2, SIGMA_PIINI, H)\n",
    "L_PINF = COMPRIMENTO_TRANSFERENCIA(PHI_L, F_YK, F_CTKINFJ[1], ETA_1, ETA_2, SIGMA_PIINF, H)\n",
    "L_P = np.mean([L_PINI, L_PINF])\n",
    "print('Comprimento de transferência considerando as perdas iniciais')\n",
    "print('L_P: ', '%+10.5e' % L_P, 'm')\n",
    "print('\\n')"
   ]
  },
  {
   "cell_type": "markdown",
   "metadata": {
    "id": "dp4y4RiOKcfY"
   },
   "source": [
    "## A célula abaixo verifica:\n",
    "- Esforços de flexão meio do vão e apoios (no comp. de transferência);\n",
    "- Cisalhamento nos apoios."
   ]
  },
  {
   "cell_type": "code",
   "execution_count": 5,
   "metadata": {
    "colab": {
     "base_uri": "https://localhost:8080/"
    },
    "id": "YPAq3SPIDXUT",
    "outputId": "b6e7c46d-7b35-4fe7-d738-45a7185435ca"
   },
   "outputs": [
    {
     "name": "stdout",
     "output_type": "stream",
     "text": [
      "Esforços devido aos carregametos G e Q (M = kN.m, V = kN)\n",
      "MV = Meio do vão, AP = Apoio\n",
      "M_G1MV:   +1.55625e+02    M_G1AP:   +3.09876e+01    V_G1AP:   +3.11250e+01\n",
      "M_G2MV:   +7.75000e+01    M_G2AP:   +1.54316e+01    V_G2AP:   +1.55000e+01\n",
      "M_G3MV:   +3.50000e+01    M_G3AP:   +6.96911e+00    V_G2AP:   +7.00000e+00\n",
      "M_Q1MV:   +7.50000e+01    M_Q1AP:   +1.49338e+01    V_Q1AP:   +1.50000e+01\n",
      "\n",
      "\n"
     ]
    }
   ],
   "source": [
    "# Momento máximo (meio do vão), momento apoios (no comp. de transferência) e cortante máximo (apoios)\n",
    "[M_MVG1K, M_APG1K, V_APG1K] = ESFORCOS(G_1K, L, L_P)\n",
    "[M_MVG2K, M_APG2K, V_APG2K] = ESFORCOS(G_2K, L, L_P)\n",
    "[M_MVG3K, M_APG3K, V_APG3K] = ESFORCOS(G_3K, L, L_P)\n",
    "[M_MVQ1K, M_APQ1K, V_APQ1K] = ESFORCOS(Q_1K, L, L_P)\n",
    "print('Esforços devido aos carregametos G e Q (M = kN.m, V = kN)')\n",
    "print('MV = Meio do vão, AP = Apoio')\n",
    "print('M_G1MV:  ', '%+10.5e' % M_MVG1K, '   M_G1AP:  ', '%+10.5e' % M_APG1K,  '   V_G1AP:  ', '%+10.5e' % V_APG1K)\n",
    "print('M_G2MV:  ', '%+10.5e' % M_MVG2K, '   M_G2AP:  ', '%+10.5e' % M_APG2K,  '   V_G2AP:  ', '%+10.5e' % V_APG2K)\n",
    "print('M_G3MV:  ', '%+10.5e' % M_MVG3K, '   M_G3AP:  ', '%+10.5e' % M_APG3K,  '   V_G2AP:  ', '%+10.5e' % V_APG3K)\n",
    "print('M_Q1MV:  ', '%+10.5e' % M_MVQ1K, '   M_Q1AP:  ', '%+10.5e' % M_APQ1K,  '   V_Q1AP:  ', '%+10.5e' % V_APQ1K)\n",
    "print('\\n')"
   ]
  },
  {
   "cell_type": "markdown",
   "metadata": {
    "id": "I5QbXTg7QuVw"
   },
   "source": [
    "## A célula abaixo verifica:\n",
    "- Determinação da armadura A_SCP longitudinal que respeite a equação de Estado Limite de Serviço (ELS-F) no tempo infinito."
   ]
  },
  {
   "cell_type": "code",
   "execution_count": 6,
   "metadata": {
    "colab": {
     "base_uri": "https://localhost:8080/"
    },
    "id": "uE4Kg56bAv-S",
    "outputId": "c0eca95d-5853-47c7-f7d7-5cbf140f0a04"
   },
   "outputs": [
    {
     "name": "stdout",
     "output_type": "stream",
     "text": [
      "Sugestão de armadura \n",
      "A_SCPINICIAL >=   +1.32950e-04 m²   Sugestão de armadura respeitando as condições nos apoios\n",
      "A_SCPINICIAL >=   +6.67695e-04 m²   Sugestão de armadura respeitando as condições no meio do vão\n",
      "\n",
      "\n",
      "A_SCP        ==   +6.67695e-04 m²   Armadura inicial escolhida\n"
     ]
    }
   ],
   "source": [
    "# Avaliação no apoio\n",
    "A_SCPINICIAL0 = ARMADURA_ASCP_ELS(A_C, W_INF, E_P, PSI_1, PSI_2, M_APG1K, M_APG2K, M_APG3K, M_APQ1K, SIGMA_PIINF, F_CTKINFJ[1])\n",
    "\n",
    "# Avaliação no meio do vão\n",
    "A_SCPINICIAL1 = ARMADURA_ASCP_ELS(A_C, W_INF, E_P, PSI_1, PSI_2, M_MVG1K, M_MVG2K, M_MVG3K, M_MVQ1K, SIGMA_PIINF, F_CTKINFJ[1])\n",
    "\n",
    "# Seleção do maior valor (pior situação)\n",
    "A_SCP = max(A_SCPINICIAL0, A_SCPINICIAL1)\n",
    "print('Sugestão de armadura ')\n",
    "print('A_SCPINICIAL >=  ', '%+10.5e' % A_SCPINICIAL0, 'm²', '  Sugestão de armadura respeitando as condições nos apoios')\n",
    "print('A_SCPINICIAL >=  ', '%+10.5e' % A_SCPINICIAL1, 'm²', '  Sugestão de armadura respeitando as condições no meio do vão')\n",
    "print('\\n')\n",
    "print('A_SCP        ==  ', '%+10.5e' % A_SCP, 'm²', '  Armadura inicial escolhida')"
   ]
  },
  {
   "cell_type": "markdown",
   "metadata": {
    "id": "I5QbXTg7QuVw"
   },
   "source": [
    "## A célula abaixo verifica:\n",
    "- Verifica as tensões normais no ato da protensão considerando um Estado Limite Último (ELU)."
   ]
  },
  {
   "cell_type": "code",
   "execution_count": 7,
   "metadata": {
    "colab": {
     "base_uri": "https://localhost:8080/",
     "height": 248
    },
    "id": "P-e0oY-_NiUG",
    "outputId": "f16a7493-0235-4516-c0c4-5ca672b62b4d"
   },
   "outputs": [
    {
     "name": "stdout",
     "output_type": "stream",
     "text": [
      "Verificações ELU no ato da protensão\n",
      "Parâmetros da protensão\n",
      "SIGMA_PI1:      +1.11599e+06 kN/m²\n",
      "P_I1:           +7.45142e+02 kN\n",
      "\n",
      "\n",
      "Valores máximos das tensões \n",
      "SIGMA_TRACMAX:  +2.74020e+03 kN/m²\n",
      "SIGMA_COMPMAX:  +1.47000e+04 kN/m²\n",
      "\n",
      "\n",
      "Verificação das tensões normais nos bordos no apoio \n",
      "Bordo inferior: +1.58024e+04 kN/m² // Eq. Estado Limite: +7.49938e-02\n",
      "Bordo superior: -3.83225e+03 kN/m² // Eq. Estado Limite: +3.98530e-01\n",
      "\n",
      "\n",
      "Verificação das tensões normais nos bordos no meio do vão \n",
      "Bordo inferior: +9.65595e+03 kN/m² // Eq. Estado Limite: -3.43132e-01\n",
      "Bordo superior: +2.31421e+03 kN/m² // Eq. Estado Limite: -8.42571e-01\n",
      "\n",
      "\n"
     ]
    }
   ],
   "source": [
    "print('Verificações ELU no ato da protensão')\n",
    "# Carga inicial de protensão após definição da armadura\n",
    "SIGMA_PI1 = SIGMA_PIINI\n",
    "P_I1 = SIGMA_PI1 * A_SCP\n",
    "print('Parâmetros da protensão')\n",
    "print('SIGMA_PI1:     ' , '%+10.5e' % SIGMA_PI1, 'kN/m²')\n",
    "print('P_I1:          ' , '%+10.5e' % P_I1, 'kN')\n",
    "print('\\n')\n",
    "\n",
    "# Valores máximos das tensões (tração e compressão)\n",
    "SIGMA_TRACMAX = 1.20 * F_CTMJ[0]\n",
    "SIGMA_COMPMAX = 0.70 * F_CKJ[0]\n",
    "print('Valores máximos das tensões ')\n",
    "print('SIGMA_TRACMAX: ' , '%+10.5e' % SIGMA_TRACMAX, 'kN/m²')\n",
    "print('SIGMA_COMPMAX: ' , '%+10.5e' % SIGMA_COMPMAX, 'kN/m²')\n",
    "print('\\n')\n",
    "\n",
    "# Verificação tensões normais no ato da protensão no apoio\n",
    "G = []\n",
    "[SIGMA_INF, SIGMA_SUP] = TENSOES_NORMAIS(P_I1, A_C, E_P, W_INF, W_SUP, 1, 1, 0, 0, 0, 0, 0, M_APG1K, 0, 0, 0, 0)\n",
    "[G_0, G_1] = VERIFICA_TENSAO_NORMAL_ATO_PROTENSÃO(SIGMA_INF, SIGMA_SUP, SIGMA_TRACMAX, SIGMA_COMPMAX)\n",
    "G.append(G_0); G.append(G_1)\n",
    "print('Verificação das tensões normais nos bordos no apoio ')\n",
    "print('Bordo inferior:', '%+10.5e' % SIGMA_INF, 'kN/m²', '// Eq. Estado Limite:', '%+10.5e' % G_0)\n",
    "print('Bordo superior:', '%+10.5e' % SIGMA_SUP, 'kN/m²', '// Eq. Estado Limite:', '%+10.5e' % G_1)\n",
    "print('\\n')\n",
    "\n",
    "# Verificação tensões normais no ato da protensão no meio do vão\n",
    "[SIGMA_INF, SIGMA_SUP] = TENSOES_NORMAIS(P_I1, A_C, E_P, W_INF, W_SUP, 1, 1, 0, 0, 0, 0, 0, M_MVG1K, 0, 0, 0, 0)\n",
    "[G_2, G_3] = VERIFICA_TENSAO_NORMAL_ATO_PROTENSÃO(SIGMA_INF, SIGMA_SUP, SIGMA_TRACMAX, SIGMA_COMPMAX)\n",
    "G.append(G_2); G.append(G_3)\n",
    "print('Verificação das tensões normais nos bordos no meio do vão ')\n",
    "print('Bordo inferior:', '%+10.5e' % SIGMA_INF, 'kN/m²', '// Eq. Estado Limite:', '%+10.5e' % G_2)\n",
    "print('Bordo superior:', '%+10.5e' % SIGMA_SUP, 'kN/m²', '// Eq. Estado Limite:', '%+10.5e' % G_3)\n",
    "print('\\n')"
   ]
  },
  {
   "cell_type": "markdown",
   "metadata": {
    "id": "I5QbXTg7QuVw"
   },
   "source": [
    "## A célula abaixo verifica:\n",
    "- Determina a armadura longitudinal necessária A_SCPNEC para a peça."
   ]
  },
  {
   "cell_type": "code",
   "execution_count": 8,
   "metadata": {},
   "outputs": [
    {
     "name": "stdout",
     "output_type": "stream",
     "text": [
      "Verificação da armadura necessária\n",
      "Momento de cálculo\n",
      "M_SD:  +4.80375e+02 kN.m\n",
      "\n",
      "\n",
      "Altura útil\n",
      "D:  +6.58750e-01 m\n",
      "\n",
      "\n",
      "Propriedades do aço\n",
      "F_PD:       +1.62105e+06 kN/m²\n",
      "F_YD:       +1.45789e+06 kN/m²\n",
      "EPSILON_Y:  +7.47636e-03\n",
      "\n",
      "\n",
      "Armadura necessária\n",
      "X:          +4.82683e-01 m\n",
      "EPSILON_S:  +9.35458e-04\n",
      "EPSILON_C:  +3.50000e-03\n",
      "Z:          +4.65677e-01 m\n",
      "A_SCPNEC:   +9.33269e-04 m² // Eq. Estado Limite: +3.97749e-01\n",
      "\n",
      "\n"
     ]
    }
   ],
   "source": [
    "print('Verificação da armadura necessária')\n",
    "# Momento de cálculo\n",
    "M_SD = (M_MVG1K + M_MVG2K + M_MVG3K + M_MVQ1K) * GAMMA_F\n",
    "print('Momento de cálculo')\n",
    "print('M_SD: ', '%+10.5e' % M_SD, 'kN.m')\n",
    "print('\\n')\n",
    "\n",
    "# Altura útil\n",
    "D = Y_SUP + E_P\n",
    "print('Altura útil')\n",
    "print('D: ',   '%+10.5e' % D, 'm')\n",
    "print('\\n')\n",
    "\n",
    "# Propriedades do aço\n",
    "F_PD = F_PK / GAMMA_S\n",
    "F_YD = F_YK / GAMMA_S\n",
    "EPSILON_Y = F_YD / E_SCP\n",
    "print('Propriedades do aço')\n",
    "print('F_PD:      ',   '%+10.5e' % F_PD, 'kN/m²')\n",
    "print('F_YD:      ',   '%+10.5e' % F_YD, 'kN/m²')\n",
    "print('EPSILON_Y: ',   '%+10.5e' % EPSILON_Y)\n",
    "print('\\n')\n",
    "\n",
    "# Armadura necessária\n",
    "X, EPSILON_S, EPSILON_C, Z, A_SCPNEC = AREA_ACO_FNS_RETANGULAR_SIMPLES('CP', M_SD, F_CK, B_W, D, E_SCP, SIGMA_PIINF, 35/1000, EPSILON_Y, F_PD, F_YD)\n",
    "G_4 = VERIFICA_ARMADURA_FLEXAO(A_SCP, A_SCPNEC)\n",
    "G.append(G_4)\n",
    "print('Armadura necessária')\n",
    "print('X:         ',   '%+10.5e' % X, 'm')\n",
    "print('EPSILON_S: ',   '%+10.5e' % EPSILON_S)\n",
    "print('EPSILON_C: ',   '%+10.5e' % EPSILON_C)\n",
    "print('Z:         ',   '%+10.5e' % Z, 'm')\n",
    "print('A_SCPNEC:  ',   '%+10.5e' % A_SCPNEC, 'm²', '// Eq. Estado Limite:', '%+10.5e' % G_4)\n",
    "print('\\n')"
   ]
  },
  {
   "cell_type": "markdown",
   "metadata": {
    "id": "I5QbXTg7QuVw"
   },
   "source": [
    "## A célula abaixo verifica:\n",
    "- Determina a resistência da biela de compressão;\n",
    "- Determina a armadura transversal A_SW necessária para a peça."
   ]
  },
  {
   "cell_type": "code",
   "execution_count": 9,
   "metadata": {},
   "outputs": [
    {
     "name": "stdout",
     "output_type": "stream",
     "text": [
      "Verificação da biela de compressão\n",
      "Esforço cortante solicitante\n",
      "V_SD:          +9.60750e+01 kN\n",
      "\n",
      "\n",
      "Resistência da biela de compressão\n",
      "V_RD2:         +4.69557e+02 kN // Eq. Estado Limite: -7.95392e-01\n",
      "\n",
      "\n",
      "Resistência do concreto ao cisalhamento\n",
      "V_C:           +1.17810e+02 kN\n",
      "\n",
      "\n",
      "Carga de cisalhamento absorvida pelo estribo\n",
      "V_SW:          +0.00000e+00 kN\n",
      "\n",
      "\n",
      "Armadura para o cisalhamento\n",
      "A_SW:          +1.54388e-04 m²/m\n",
      "\n",
      "\n"
     ]
    }
   ],
   "source": [
    "# Verificação da biela comprimida\n",
    "V_SD = (V_APG1K + V_APG2K + V_APG3K + V_APQ1K) * 1.40\n",
    "V_RD2 = RESISTENCIA_BIELA_COMPRIMIDA(F_CKJ[1], B_W, D)\n",
    "G_5 = VERIFICA_BIELA_COMPRIMIDA(V_SD, V_RD2)\n",
    "G.append(G_5)\n",
    "print('Verificação da biela de compressão')\n",
    "print('Esforço cortante solicitante')\n",
    "print('V_SD:         ',   '%+10.5e' % V_SD, 'kN')\n",
    "print('\\n')\n",
    "print('Resistência da biela de compressão')\n",
    "print('V_RD2:        ',   '%+10.5e' % V_RD2, 'kN', '// Eq. Estado Limite:', '%+10.5e' % G_5)\n",
    "print('\\n')\n",
    "\n",
    "# Cálculo da armadura necessária\n",
    "P_IINF = SIGMA_PIINF * A_SCP\n",
    "V_C, V_SW, A_SW = AREA_ACO_TRANSVERSAL_MODELO_I(0, P_IINF, V_SD, F_CTKINFJ[1], B_W, D, 'CP', W_INF, A_C, E_P, M_SD, F_CTMJ[1], 500E3)\n",
    "print('Resistência do concreto ao cisalhamento')\n",
    "print('V_C:          ',   '%+10.5e' % V_C, 'kN')\n",
    "print('\\n')\n",
    "print('Carga de cisalhamento absorvida pelo estribo')\n",
    "print('V_SW:         ',   '%+10.5e' % V_SW, 'kN')\n",
    "print('\\n')\n",
    "print('Armadura para o cisalhamento')\n",
    "print('A_SW:         ',   '%+10.5e' % A_SW, 'm²/m')\n",
    "print('\\n')"
   ]
  },
  {
   "cell_type": "markdown",
   "metadata": {},
   "source": [
    "## A célula abaixo verifica:\n",
    "- Propriedades no Estádios I e II;\n",
    "- Momento de fissuração;\n",
    "- Flecha."
   ]
  },
  {
   "cell_type": "code",
   "execution_count": 10,
   "metadata": {},
   "outputs": [
    {
     "name": "stdout",
     "output_type": "stream",
     "text": [
      "Verificação da flecha\n",
      "Propriedades no Estádio I\n",
      "Área da seção (Ac)               =  0.08041692767966802 m²\n",
      "Linha Neutra (xi)                =  0.36311883519474764 m\n",
      "Inércia Estádio I (Ii)           =  0.003456050574877797 m^4\n",
      "Momento resistente (Mr serviço)  =  399.63955983460124 kN.m\n",
      "\n",
      "\n",
      "Propriedades no Estádio II\n",
      "Linha Neutra Estádio II (xii)    =  0.1871470043255724 m\n",
      "Inércia Estádio II (Iii)         =  0.001148795001155702 m^4\n",
      "\n",
      "\n",
      "Verificação do Estádio\n",
      "Momento atuante (Mat serviço)    =  290.625 kN.m\n",
      "Peça deverá ser verificada no Estádio I\n",
      "\n",
      "\n",
      "Avaliação da inércia equivalente\n",
      "Inércia equivalente               = 0.003456050574877797 m^4\n",
      "Rigidez equivalente na protensão  = 79821.5713594647 kN.m²\n",
      "Rigidez equivalente no serviço    = 110164.23457550928 kN.m²\n",
      "Flecha total (Direta + Fluência)\n",
      "Carga de serviço                =  5.812500000000001 kN/m\n",
      "Flecha total na fabricação      =  -0.29551135439871484 m // Eq. Estado Limite: -15.775567719935742\n",
      "Flecha total no serviço         =  -0.17211604327636953 m // Eq. Estado Limite: -3.151450540954619\n"
     ]
    }
   ],
   "source": [
    "print(\"Verificação da flecha\")\n",
    "# Determinação das propriedades no Estádio I\n",
    "ALPHA_MOD = E_SCP / E_CSJ[1]\n",
    "A_CI, X_I, I_I = GEOMETRIC_PROPERTIES_STATE_I(H, B_W, B_W, 0, A_SCP, ALPHA_MOD, D)\n",
    "M_R = M_R_BENDING_MOMENT(2, F_CTMJ[1], H, X_I, I_I, P_IINF, A_CI, W_INF, E_P)\n",
    "\n",
    "# Determinação das propriedades no Estádio II\n",
    "X_II, I_II = GEOMETRIC_PROPERTIES_STATE_II(H, B_W, B_W, 0, A_SCP, 0, ALPHA_MOD, D, 0)\n",
    "print(\"Propriedades no Estádio I\")\n",
    "print('Área da seção (Ac)               = ', A_CI, 'm²')\n",
    "print('Linha Neutra (xi)                = ', X_I, 'm')\n",
    "print('Inércia Estádio I (Ii)           = ', I_I, 'm^4')\n",
    "print('Momento resistente (Mr serviço)  = ', M_R, 'kN.m')\n",
    "print('\\n')\n",
    "print(\"Propriedades no Estádio II\")\n",
    "print('Linha Neutra Estádio II (xii)    = ', X_II, 'm')\n",
    "print('Inércia Estádio II (Iii)         = ', I_II, 'm^4')\n",
    "print('\\n')\n",
    "\n",
    "# Momento atuante\n",
    "M_SER = (M_MVG1K + M_MVG2K + M_MVG3K) + (M_MVQ1K) * PSI_2\n",
    "print(\"Verificação do Estádio\")\n",
    "print('Momento atuante (Mat serviço)    = ', M_SER, 'kN.m')\n",
    "\n",
    "# Inércia e rigidez equivalente da peça\n",
    "if M_SER > M_R:\n",
    "    I_M = BRANSON_INERTIA(M_R, M_SER, I_I, I_II)\n",
    "    I_CNOVO = I_M\n",
    "    print('Peça deverá ser verificada no Estádio II')\n",
    "else:\n",
    "    I_CNOVO  = I_I\n",
    "    print('Peça deverá ser verificada no Estádio I')\n",
    "print('\\n')\n",
    "\n",
    "EI0 = E_CSJ[0] * I_CNOVO\n",
    "EI1 = E_CSJ[1] * I_CNOVO\n",
    "print(\"Avaliação da inércia equivalente\")\n",
    "print(\"Inércia equivalente               =\", I_CNOVO, 'm^4')\n",
    "print(\"Rigidez equivalente na protensão  =\", EI0, 'kN.m²')\n",
    "print(\"Rigidez equivalente no serviço    =\", EI1, 'kN.m²')\n",
    "\n",
    "# Cálculo das flechas totais\n",
    "M_PI = P_I1 * E_P\n",
    "A_PI = -(M_PI * (L ** 2)) / (8 * EI0)\n",
    "A_PI *= (PHI_FLUENCIA0 + 1)\n",
    "A_G1 = (5 * G_1K * (L ** 4) / (384 * EI0))\n",
    "A_G1 *= (PHI_FLUENCIA0 + 1)\n",
    "G_SER = G_1K + G_2K + G_3K + PSI_2 * Q_1K\n",
    "A_G23 = (5 * (G_2K + G_3K) * (L ** 4) / (384 * EI1))\n",
    "A_G23 *= (PHI_FLUENCIA1 + 1)\n",
    "A_Q1 = (5 * (PSI_2 * Q_1K) * (L ** 4) / (384 * EI1))\n",
    "A_GT = A_G1 + A_G23 + A_Q1\n",
    "A_FABRICA = A_PI + A_G1\n",
    "A_SERVICO = A_PI + A_GT\n",
    "\n",
    "# Verificação flecha na fabricação\n",
    "G_6 = VERIFICA_FLECHA(A_FABRICA, L / 1000)\n",
    "G_7 = VERIFICA_FLECHA(A_SERVICO, L / 250)\n",
    "print(\"Flecha total (Direta + Fluência)\")\n",
    "print(\"Carga de serviço                = \", G_SER, 'kN/m')\n",
    "print(\"Flecha total na fabricação      = \", A_FABRICA, 'm', '// Eq. Estado Limite:', G_6)\n",
    "print(\"Flecha total no serviço         = \", A_SERVICO, 'm', '// Eq. Estado Limite:', G_7)"
   ]
  }
 ],
 "metadata": {
  "colab": {
   "collapsed_sections": [],
   "name": "VIGA_PREPRO.ipynb",
   "provenance": []
  },
  "kernelspec": {
   "display_name": "Python 3",
   "language": "python",
   "name": "python3"
  },
  "language_info": {
   "codemirror_mode": {
    "name": "ipython",
    "version": 3
   },
   "file_extension": ".py",
   "mimetype": "text/x-python",
   "name": "python",
   "nbconvert_exporter": "python",
   "pygments_lexer": "ipython3",
   "version": "3.8.3"
  }
 },
 "nbformat": 4,
 "nbformat_minor": 1
}
